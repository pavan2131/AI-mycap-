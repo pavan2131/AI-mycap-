{
  "nbformat": 4,
  "nbformat_minor": 0,
  "metadata": {
    "colab": {
      "name": "Positive.ipynb",
      "provenance": [],
      "authorship_tag": "ABX9TyM712g4VcqTKpoD6cMnOQS+",
      "include_colab_link": true
    },
    "kernelspec": {
      "name": "python3",
      "display_name": "Python 3"
    },
    "language_info": {
      "name": "python"
    }
  },
  "cells": [
    {
      "cell_type": "markdown",
      "metadata": {
        "id": "view-in-github",
        "colab_type": "text"
      },
      "source": [
        "<a href=\"https://colab.research.google.com/github/pavan2131/AI-mycap-/blob/main/Positive.ipynb\" target=\"_parent\"><img src=\"https://colab.research.google.com/assets/colab-badge.svg\" alt=\"Open In Colab\"/></a>"
      ]
    },
    {
      "cell_type": "code",
      "metadata": {
        "colab": {
          "base_uri": "https://localhost:8080/"
        },
        "id": "KqUy6x1l8-rd",
        "outputId": "5b3035d5-35fd-422b-9c95-7a69f4b1644e"
      },
      "source": [
        "lst = []\n",
        "n = int(input(\"Enter number of elements : \"))\n",
        "for i in range(0, n):\n",
        "    ele = int(input())\n",
        "    lst.append(ele)\n",
        "     \n",
        "print(lst)\n",
        "lst1 = []\n",
        "for x in lst:\n",
        "  if(x>0):\n",
        "    lst1.append(x)\n",
        "print(lst1)\n"
      ],
      "execution_count": 26,
      "outputs": [
        {
          "output_type": "stream",
          "text": [
            "Enter number of elements : 4\n",
            "12\n",
            "14\n",
            "-95\n",
            "3\n",
            "[12, 14, -95, 3]\n",
            "[12, 14, 3]\n"
          ],
          "name": "stdout"
        }
      ]
    },
    {
      "cell_type": "code",
      "metadata": {
        "colab": {
          "base_uri": "https://localhost:8080/"
        },
        "id": "MwaP1h1h-Zfl",
        "outputId": "e9a364b5-6f60-4ed0-923d-1c003e4e9b0c"
      },
      "source": [
        "nums = [12, -7, 5, 64, -14]\n",
        "print(nums)\n",
        "new = list(filter(lambda x: x >0, nums))\n",
        "print(new)\n"
      ],
      "execution_count": 30,
      "outputs": [
        {
          "output_type": "stream",
          "text": [
            "[12, -7, 5, 64, -14]\n",
            "[12, 5, 64]\n"
          ],
          "name": "stdout"
        }
      ]
    },
    {
      "cell_type": "code",
      "metadata": {
        "id": "3MTv2XLG-1-0"
      },
      "source": [
        ""
      ],
      "execution_count": null,
      "outputs": []
    }
  ]
}