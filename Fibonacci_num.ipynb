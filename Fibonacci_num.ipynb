{
  "nbformat": 4,
  "nbformat_minor": 0,
  "metadata": {
    "colab": {
      "name": "Fibonacci_num.ipynb",
      "provenance": [],
      "authorship_tag": "ABX9TyNW/2GH1CfzkSJfyBIFuzFv",
      "include_colab_link": true
    },
    "kernelspec": {
      "name": "python3",
      "display_name": "Python 3"
    },
    "language_info": {
      "name": "python"
    }
  },
  "cells": [
    {
      "cell_type": "markdown",
      "metadata": {
        "id": "view-in-github",
        "colab_type": "text"
      },
      "source": [
        "<a href=\"https://colab.research.google.com/github/pavan2131/AI-mycap-/blob/main/Fibonacci_num.ipynb\" target=\"_parent\"><img src=\"https://colab.research.google.com/assets/colab-badge.svg\" alt=\"Open In Colab\"/></a>"
      ]
    },
    {
      "cell_type": "code",
      "metadata": {
        "colab": {
          "base_uri": "https://localhost:8080/"
        },
        "id": "PoEbDH6YyAUM",
        "outputId": "3af29c6a-f4ff-445f-ecd4-d2d373053e18"
      },
      "source": [
        "def recursion_fibo(n):  \n",
        "   if n <= 1:  \n",
        "       return n  \n",
        "   else:  \n",
        "       return(recursion_fibo(n-1) + recursion_fibo(n-2))  \n",
        "nt = int(input(\"How many terms of fibonacci you want to print? \"))  \n",
        "if nt <= 0:  \n",
        "   print(\"Plese enter a positive integer\")  \n",
        "else:  \n",
        "   print(\"Fibonacci sequence:\")  \n",
        "   for i in range(nt):  \n",
        "       print(recursion_fibo(i))  "
      ],
      "execution_count": 8,
      "outputs": [
        {
          "output_type": "stream",
          "text": [
            "How many terms of fibonacci you want to print? -2\n",
            "Plese enter a positive integer\n"
          ],
          "name": "stdout"
        }
      ]
    },
    {
      "cell_type": "code",
      "metadata": {
        "colab": {
          "base_uri": "https://localhost:8080/"
        },
        "id": "TF2hFcQA6byX",
        "outputId": "c355ff5c-643b-471b-dafc-f5505e95ba93"
      },
      "source": [
        "def recursion_fibo(n):  \n",
        "   if n <= 1:  \n",
        "       return n  \n",
        "   else:  \n",
        "       return(recursion_fibo(n-1) + recursion_fibo(n-2))  \n",
        "nt = int(input(\"How many terms of fibonacci you want to print? \"))  \n",
        "if nt <= 0:  \n",
        "   print(\"Plese enter a positive integer\")  \n",
        "else:  \n",
        "   print(\"Fibonacci sequence:\")  \n",
        "   for i in range(nt):  \n",
        "       print(recursion_fibo(i))  "
      ],
      "execution_count": 9,
      "outputs": [
        {
          "output_type": "stream",
          "text": [
            "How many terms of fibonacci you want to print? 5\n",
            "Fibonacci sequence:\n",
            "0\n",
            "1\n",
            "1\n",
            "2\n",
            "3\n"
          ],
          "name": "stdout"
        }
      ]
    },
    {
      "cell_type": "code",
      "metadata": {
        "colab": {
          "base_uri": "https://localhost:8080/"
        },
        "id": "g24JyphC63Mu",
        "outputId": "7ba1eaca-2940-4dc3-eead-fa9205560b36"
      },
      "source": [
        "recursion_fibo(0)"
      ],
      "execution_count": 11,
      "outputs": [
        {
          "output_type": "execute_result",
          "data": {
            "text/plain": [
              "0"
            ]
          },
          "metadata": {
            "tags": []
          },
          "execution_count": 11
        }
      ]
    },
    {
      "cell_type": "code",
      "metadata": {
        "id": "SwBYnqY-7AU9",
        "outputId": "dbe2e373-c790-4129-e30a-1cb0c89eee80",
        "colab": {
          "base_uri": "https://localhost:8080/"
        }
      },
      "source": [
        "recursion_fibo(1)"
      ],
      "execution_count": 12,
      "outputs": [
        {
          "output_type": "execute_result",
          "data": {
            "text/plain": [
              "1"
            ]
          },
          "metadata": {
            "tags": []
          },
          "execution_count": 12
        }
      ]
    }
  ]
}